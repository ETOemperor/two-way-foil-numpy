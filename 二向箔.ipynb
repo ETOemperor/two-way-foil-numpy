{
 "cells": [
  {
   "cell_type": "code",
   "execution_count": 5,
   "metadata": {},
   "outputs": [],
   "source": [
    "import numpy\n",
    "x1=numpy.ones((4,4,4))"
   ]
  },
  {
   "cell_type": "code",
   "execution_count": 18,
   "metadata": {},
   "outputs": [
    {
     "name": "stdout",
     "output_type": "stream",
     "text": [
      "[[[0. 0. 0. 0.]\n",
      "  [0. 1. 1. 0.]\n",
      "  [0. 1. 1. 0.]\n",
      "  [0. 0. 0. 0.]]\n",
      "\n",
      " [[0. 1. 1. 0.]\n",
      "  [1. 1. 1. 1.]\n",
      "  [1. 1. 1. 1.]\n",
      "  [0. 1. 1. 0.]]\n",
      "\n",
      " [[0. 1. 1. 0.]\n",
      "  [1. 1. 1. 1.]\n",
      "  [1. 1. 1. 1.]\n",
      "  [0. 1. 1. 0.]]\n",
      "\n",
      " [[0. 0. 0. 0.]\n",
      "  [0. 1. 1. 0.]\n",
      "  [0. 1. 1. 0.]\n",
      "  [0. 0. 0. 0.]]]\n"
     ]
    }
   ],
   "source": [
    "x1[0]=0\n",
    "x1[3]=0\n",
    "x1[1:2]=1\n",
    "x1[1,0,0]=0\n",
    "x1[1,0,3]=0\n",
    "x1[1,3,0]=0\n",
    "x1[1,3,3]=0\n",
    "x1[2,0,0]=0\n",
    "x1[2,0,3]=0\n",
    "x1[2,3,0]=0\n",
    "x1[2,3,3]=0\n",
    "x1[0,1,1:3]=1\n",
    "x1[0,2,1:3]=1\n",
    "x1[3,1,1:3]=1\n",
    "x1[3,2,1:3]=1\n",
    "print(x1)"
   ]
  },
  {
   "cell_type": "code",
   "execution_count": 19,
   "metadata": {},
   "outputs": [
    {
     "name": "stdout",
     "output_type": "stream",
     "text": [
      "[[0. 0. 0. 0. 0. 1. 1. 0.]\n",
      " [0. 1. 1. 0. 0. 0. 0. 0.]\n",
      " [0. 1. 1. 0. 1. 1. 1. 1.]\n",
      " [1. 1. 1. 1. 0. 1. 1. 0.]\n",
      " [0. 1. 1. 0. 1. 1. 1. 1.]\n",
      " [1. 1. 1. 1. 0. 1. 1. 0.]\n",
      " [0. 0. 0. 0. 0. 1. 1. 0.]\n",
      " [0. 1. 1. 0. 0. 0. 0. 0.]]\n"
     ]
    }
   ],
   "source": [
    "x2=x1.reshape(8,8)\n",
    "print(x2)"
   ]
  },
  {
   "cell_type": "code",
   "execution_count": 20,
   "metadata": {},
   "outputs": [
    {
     "data": {
      "image/png": "[encoded data removed]",
      "text/plain": [
       "<Figure size 640x480 with 2 Axes>"
      ]
     },
     "metadata": {},
     "output_type": "display_data"
    }
   ],
   "source": [
    "import matplotlib.pyplot as plt\n",
    "fig, ax = plt.subplots()\n",
    "\n",
    "# 绘制热力图\n",
    "im = ax.imshow(x2)\n",
    "\n",
    "# 添加颜色条\n",
    "fig.colorbar(im)\n",
    "\n",
    "# 显示图形\n",
    "plt.show()"
   ]
  }
 ],
 "metadata": {
  "kernelspec": {
   "display_name": "Python 3",
   "language": "python",
   "name": "python3"
  },
  "language_info": {
   "codemirror_mode": {
    "name": "ipython",
    "version": 3
   },
   "file_extension": ".py",
   "mimetype": "text/x-python",
   "name": "python",
   "nbconvert_exporter": "python",
   "pygments_lexer": "ipython3",
   "version": "3.11.3"
  },
  "orig_nbformat": 4
 },
 "nbformat": 4,
 "nbformat_minor": 2
}
